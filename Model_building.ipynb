{
 "cells": [
  {
   "cell_type": "markdown",
   "id": "674094f6-104a-4c23-b1c8-9ba294b8b152",
   "metadata": {},
   "source": [
    "<h3>Data Preparation</h3>"
   ]
  },
  {
   "cell_type": "code",
   "execution_count": 9,
   "id": "29ca61ae-a801-4160-a7a2-dce49717c09d",
   "metadata": {},
   "outputs": [],
   "source": [
    "import pandas as pd\n",
    "import numpy as np\n",
    "\n",
    "# Load and clean data\n",
    "df = pd.read_csv(r\"C:\\Users\\HP\\OneDrive\\Desktop\\Project3\\Solar_Panel_Regression-\\solarpowergeneration.csv\")\n",
    "# Rename columns for better readability\n",
    "df.rename(columns={\n",
    "    'distance-to-solar-noon': 'distance_to_solar_noon',\n",
    "    'wind-direction': 'wind_direction',\n",
    "    'wind-speed': 'wind_speed',\n",
    "    'sky-cover': 'sky_cover',\n",
    "    'average-wind-speed-(period)': 'average_wind_speed',\n",
    "    'average-pressure-(period)': 'average_pressure',\n",
    "    'power-generated': 'power_generated'\n",
    "}, inplace=True)\n",
    "df = df.replace([np.inf, -np.inf], np.nan).dropna()\n"
   ]
  },
  {
   "cell_type": "markdown",
   "id": "370cfaaa-ba82-4908-8a2d-3476ca516ec5",
   "metadata": {},
   "source": [
    "<h3>Feature Extraction</h3>"
   ]
  },
  {
   "cell_type": "code",
   "execution_count": 12,
   "id": "f7c7351c-0a4b-4069-b2a2-51eda27f20d8",
   "metadata": {},
   "outputs": [],
   "source": [
    "# Create new features\n",
    "df[\"wind_power\"] = df[\"wind_speed\"] ** 2\n",
    "df[\"temp_humidity_ratio\"] = df[\"temperature\"] / (df[\"humidity\"] + 1)\n"
   ]
  },
  {
   "cell_type": "code",
   "execution_count": 38,
   "id": "314d02bd-0369-4fb5-9c34-c26513457e23",
   "metadata": {},
   "outputs": [
    {
     "data": {
      "text/html": [
       "<div>\n",
       "<style scoped>\n",
       "    .dataframe tbody tr th:only-of-type {\n",
       "        vertical-align: middle;\n",
       "    }\n",
       "\n",
       "    .dataframe tbody tr th {\n",
       "        vertical-align: top;\n",
       "    }\n",
       "\n",
       "    .dataframe thead th {\n",
       "        text-align: right;\n",
       "    }\n",
       "</style>\n",
       "<table border=\"1\" class=\"dataframe\">\n",
       "  <thead>\n",
       "    <tr style=\"text-align: right;\">\n",
       "      <th></th>\n",
       "      <th>distance_to_solar_noon</th>\n",
       "      <th>temperature</th>\n",
       "      <th>wind_direction</th>\n",
       "      <th>wind_speed</th>\n",
       "      <th>sky_cover</th>\n",
       "      <th>visibility</th>\n",
       "      <th>humidity</th>\n",
       "      <th>average_wind_speed</th>\n",
       "      <th>average_pressure</th>\n",
       "      <th>power_generated</th>\n",
       "      <th>wind_power</th>\n",
       "      <th>temp_humidity_ratio</th>\n",
       "    </tr>\n",
       "  </thead>\n",
       "  <tbody>\n",
       "    <tr>\n",
       "      <th>0</th>\n",
       "      <td>0.859897</td>\n",
       "      <td>69</td>\n",
       "      <td>28</td>\n",
       "      <td>7.5</td>\n",
       "      <td>0</td>\n",
       "      <td>10.0</td>\n",
       "      <td>75</td>\n",
       "      <td>8.0</td>\n",
       "      <td>29.82</td>\n",
       "      <td>0</td>\n",
       "      <td>56.25</td>\n",
       "      <td>0.907895</td>\n",
       "    </tr>\n",
       "    <tr>\n",
       "      <th>1</th>\n",
       "      <td>0.628535</td>\n",
       "      <td>69</td>\n",
       "      <td>28</td>\n",
       "      <td>7.5</td>\n",
       "      <td>0</td>\n",
       "      <td>10.0</td>\n",
       "      <td>77</td>\n",
       "      <td>5.0</td>\n",
       "      <td>29.85</td>\n",
       "      <td>0</td>\n",
       "      <td>56.25</td>\n",
       "      <td>0.884615</td>\n",
       "    </tr>\n",
       "    <tr>\n",
       "      <th>2</th>\n",
       "      <td>0.397172</td>\n",
       "      <td>69</td>\n",
       "      <td>28</td>\n",
       "      <td>7.5</td>\n",
       "      <td>0</td>\n",
       "      <td>10.0</td>\n",
       "      <td>70</td>\n",
       "      <td>0.0</td>\n",
       "      <td>29.89</td>\n",
       "      <td>5418</td>\n",
       "      <td>56.25</td>\n",
       "      <td>0.971831</td>\n",
       "    </tr>\n",
       "    <tr>\n",
       "      <th>3</th>\n",
       "      <td>0.165810</td>\n",
       "      <td>69</td>\n",
       "      <td>28</td>\n",
       "      <td>7.5</td>\n",
       "      <td>0</td>\n",
       "      <td>10.0</td>\n",
       "      <td>33</td>\n",
       "      <td>0.0</td>\n",
       "      <td>29.91</td>\n",
       "      <td>25477</td>\n",
       "      <td>56.25</td>\n",
       "      <td>2.029412</td>\n",
       "    </tr>\n",
       "    <tr>\n",
       "      <th>4</th>\n",
       "      <td>0.065553</td>\n",
       "      <td>69</td>\n",
       "      <td>28</td>\n",
       "      <td>7.5</td>\n",
       "      <td>0</td>\n",
       "      <td>10.0</td>\n",
       "      <td>21</td>\n",
       "      <td>3.0</td>\n",
       "      <td>29.89</td>\n",
       "      <td>30069</td>\n",
       "      <td>56.25</td>\n",
       "      <td>3.136364</td>\n",
       "    </tr>\n",
       "    <tr>\n",
       "      <th>...</th>\n",
       "      <td>...</td>\n",
       "      <td>...</td>\n",
       "      <td>...</td>\n",
       "      <td>...</td>\n",
       "      <td>...</td>\n",
       "      <td>...</td>\n",
       "      <td>...</td>\n",
       "      <td>...</td>\n",
       "      <td>...</td>\n",
       "      <td>...</td>\n",
       "      <td>...</td>\n",
       "      <td>...</td>\n",
       "    </tr>\n",
       "    <tr>\n",
       "      <th>2915</th>\n",
       "      <td>0.166453</td>\n",
       "      <td>63</td>\n",
       "      <td>27</td>\n",
       "      <td>13.9</td>\n",
       "      <td>4</td>\n",
       "      <td>10.0</td>\n",
       "      <td>75</td>\n",
       "      <td>10.0</td>\n",
       "      <td>29.93</td>\n",
       "      <td>6995</td>\n",
       "      <td>193.21</td>\n",
       "      <td>0.828947</td>\n",
       "    </tr>\n",
       "    <tr>\n",
       "      <th>2916</th>\n",
       "      <td>0.064020</td>\n",
       "      <td>63</td>\n",
       "      <td>27</td>\n",
       "      <td>13.9</td>\n",
       "      <td>1</td>\n",
       "      <td>10.0</td>\n",
       "      <td>66</td>\n",
       "      <td>15.0</td>\n",
       "      <td>29.91</td>\n",
       "      <td>29490</td>\n",
       "      <td>193.21</td>\n",
       "      <td>0.940299</td>\n",
       "    </tr>\n",
       "    <tr>\n",
       "      <th>2917</th>\n",
       "      <td>0.294494</td>\n",
       "      <td>63</td>\n",
       "      <td>27</td>\n",
       "      <td>13.9</td>\n",
       "      <td>2</td>\n",
       "      <td>10.0</td>\n",
       "      <td>68</td>\n",
       "      <td>21.0</td>\n",
       "      <td>29.88</td>\n",
       "      <td>17257</td>\n",
       "      <td>193.21</td>\n",
       "      <td>0.913043</td>\n",
       "    </tr>\n",
       "    <tr>\n",
       "      <th>2918</th>\n",
       "      <td>0.524968</td>\n",
       "      <td>63</td>\n",
       "      <td>27</td>\n",
       "      <td>13.9</td>\n",
       "      <td>2</td>\n",
       "      <td>10.0</td>\n",
       "      <td>81</td>\n",
       "      <td>17.0</td>\n",
       "      <td>29.87</td>\n",
       "      <td>677</td>\n",
       "      <td>193.21</td>\n",
       "      <td>0.768293</td>\n",
       "    </tr>\n",
       "    <tr>\n",
       "      <th>2919</th>\n",
       "      <td>0.755442</td>\n",
       "      <td>63</td>\n",
       "      <td>27</td>\n",
       "      <td>13.9</td>\n",
       "      <td>1</td>\n",
       "      <td>10.0</td>\n",
       "      <td>81</td>\n",
       "      <td>11.0</td>\n",
       "      <td>29.90</td>\n",
       "      <td>0</td>\n",
       "      <td>193.21</td>\n",
       "      <td>0.768293</td>\n",
       "    </tr>\n",
       "  </tbody>\n",
       "</table>\n",
       "<p>2919 rows × 12 columns</p>\n",
       "</div>"
      ],
      "text/plain": [
       "      distance_to_solar_noon  temperature  wind_direction  wind_speed  \\\n",
       "0                   0.859897           69              28         7.5   \n",
       "1                   0.628535           69              28         7.5   \n",
       "2                   0.397172           69              28         7.5   \n",
       "3                   0.165810           69              28         7.5   \n",
       "4                   0.065553           69              28         7.5   \n",
       "...                      ...          ...             ...         ...   \n",
       "2915                0.166453           63              27        13.9   \n",
       "2916                0.064020           63              27        13.9   \n",
       "2917                0.294494           63              27        13.9   \n",
       "2918                0.524968           63              27        13.9   \n",
       "2919                0.755442           63              27        13.9   \n",
       "\n",
       "      sky_cover  visibility  humidity  average_wind_speed  average_pressure  \\\n",
       "0             0        10.0        75                 8.0             29.82   \n",
       "1             0        10.0        77                 5.0             29.85   \n",
       "2             0        10.0        70                 0.0             29.89   \n",
       "3             0        10.0        33                 0.0             29.91   \n",
       "4             0        10.0        21                 3.0             29.89   \n",
       "...         ...         ...       ...                 ...               ...   \n",
       "2915          4        10.0        75                10.0             29.93   \n",
       "2916          1        10.0        66                15.0             29.91   \n",
       "2917          2        10.0        68                21.0             29.88   \n",
       "2918          2        10.0        81                17.0             29.87   \n",
       "2919          1        10.0        81                11.0             29.90   \n",
       "\n",
       "      power_generated  wind_power  temp_humidity_ratio  \n",
       "0                   0       56.25             0.907895  \n",
       "1                   0       56.25             0.884615  \n",
       "2                5418       56.25             0.971831  \n",
       "3               25477       56.25             2.029412  \n",
       "4               30069       56.25             3.136364  \n",
       "...               ...         ...                  ...  \n",
       "2915             6995      193.21             0.828947  \n",
       "2916            29490      193.21             0.940299  \n",
       "2917            17257      193.21             0.913043  \n",
       "2918              677      193.21             0.768293  \n",
       "2919                0      193.21             0.768293  \n",
       "\n",
       "[2919 rows x 12 columns]"
      ]
     },
     "execution_count": 38,
     "metadata": {},
     "output_type": "execute_result"
    }
   ],
   "source": [
    "df"
   ]
  },
  {
   "cell_type": "markdown",
   "id": "a9e55ab0-0946-4614-bc08-e41affc71022",
   "metadata": {},
   "source": [
    "<h3>Define Features and Target</h3>"
   ]
  },
  {
   "cell_type": "code",
   "execution_count": 15,
   "id": "8a531393-ddd3-4c73-88cd-087cc5784159",
   "metadata": {},
   "outputs": [],
   "source": [
    "X = df.drop(\"power_generated\", axis=1)\n",
    "y = df[\"power_generated\"]\n"
   ]
  },
  {
   "cell_type": "markdown",
   "id": "bf9ad3cf-b758-40d8-ad7a-c2e4a1c0e3c7",
   "metadata": {},
   "source": [
    "<h3>Train-Test Split</h3>"
   ]
  },
  {
   "cell_type": "code",
   "execution_count": 18,
   "id": "281ba89c-ff98-46d1-b9ca-54281cb19d26",
   "metadata": {},
   "outputs": [
    {
     "data": {
      "text/plain": [
       "((2335, 11), (584, 11), (2335,), (584,))"
      ]
     },
     "execution_count": 18,
     "metadata": {},
     "output_type": "execute_result"
    }
   ],
   "source": [
    "from sklearn.model_selection import train_test_split\n",
    "X_train, X_test, y_train, y_test = train_test_split(X, y, test_size=0.2, random_state=42)\n",
    "X_train.shape, X_test.shape, y_train.shape, y_test.shape"
   ]
  },
  {
   "cell_type": "markdown",
   "id": "0173a3ca-83e7-40af-9f88-e1a9146d38cf",
   "metadata": {},
   "source": [
    "<h3>Feature Scaling</h3>"
   ]
  },
  {
   "cell_type": "code",
   "execution_count": 20,
   "id": "b69e64eb-c403-4c02-9c15-fde5e3b63833",
   "metadata": {},
   "outputs": [
    {
     "data": {
      "text/plain": [
       "array([[-0.14980549,  0.8177946 ,  0.5937747 , ..., -0.96858918,\n",
       "         0.23937467,  0.01644763],\n",
       "       [ 0.53265376,  0.52530009,  0.30716717, ..., -0.26562218,\n",
       "         1.12963648, -0.21071986],\n",
       "       [ 0.84827168,  1.11028911,  0.73707846, ..., -2.02303969,\n",
       "         0.06702505,  0.02844278],\n",
       "       ...,\n",
       "       [ 0.5592057 ,  0.8177946 ,  0.16386341, ..., -0.40621558,\n",
       "        -0.55077229, -0.07829891],\n",
       "       [-1.23963227, -0.35218343, -1.69908553, ...,  1.07001513,\n",
       "        -1.0374065 ,  0.71216657],\n",
       "       [ 0.93012183,  0.52530009,  0.73707846, ...,  0.71853163,\n",
       "        -0.88533331, -0.391115  ]])"
      ]
     },
     "execution_count": 20,
     "metadata": {},
     "output_type": "execute_result"
    }
   ],
   "source": [
    "from sklearn.preprocessing import StandardScaler\n",
    "\n",
    "scaler = StandardScaler()\n",
    "X_train_scaled = scaler.fit_transform(X_train)\n",
    "X_test_scaled = scaler.transform(X_test)\n",
    "X_train_scaled\n",
    "X_test_scaled"
   ]
  },
  {
   "cell_type": "markdown",
   "id": "b6926977-6064-4707-bbeb-8b81c054f7ce",
   "metadata": {},
   "source": [
    "<h3>Train All Models</h3>"
   ]
  },
  {
   "cell_type": "code",
   "execution_count": 24,
   "id": "05a778b3-11e3-4ef9-8123-c868eaabee2b",
   "metadata": {},
   "outputs": [
    {
     "name": "stdout",
     "output_type": "stream",
     "text": [
      "\n",
      "Model: Linear Regression\n",
      "R2 Score: 0.6350, RMSE: 6336.83\n",
      "\n",
      "Model: Ridge Regression\n",
      "R2 Score: 0.6345, RMSE: 6341.16\n",
      "\n",
      "Model: Lasso Regression\n",
      "R2 Score: 0.6349, RMSE: 6337.93\n",
      "\n",
      "Model: Random Forest\n",
      "R2 Score: 0.9054, RMSE: 3225.33\n",
      "\n",
      "Model: Gradient Boosting\n",
      "R2 Score: 0.9188, RMSE: 2989.59\n",
      "\n",
      "Model: SVR\n",
      "R2 Score: -0.3983, RMSE: 12403.18\n",
      "\n",
      "Model: XGBoost\n",
      "R2 Score: 0.9052, RMSE: 3229.84\n"
     ]
    }
   ],
   "source": [
    "from sklearn.linear_model import LinearRegression, Ridge, Lasso\n",
    "from sklearn.ensemble import RandomForestRegressor, GradientBoostingRegressor\n",
    "from sklearn.svm import SVR\n",
    "from xgboost import XGBRegressor\n",
    "from sklearn.metrics import r2_score, mean_squared_error\n",
    "\n",
    "models = {\n",
    "    \"Linear Regression\": LinearRegression(),\n",
    "    \"Ridge Regression\": Ridge(),\n",
    "    \"Lasso Regression\": Lasso(),\n",
    "    \"Random Forest\": RandomForestRegressor(random_state=42),\n",
    "    \"Gradient Boosting\": GradientBoostingRegressor(random_state=42),\n",
    "    \"SVR\": SVR(),\n",
    "    \"XGBoost\": XGBRegressor(objective='reg:squarederror', random_state=42)\n",
    "}\n",
    "\n",
    "results = []\n",
    "\n",
    "for name, model in models.items():\n",
    "    print(f\"\\nModel: {name}\")\n",
    "    \n",
    "    if name == \"SVR\":\n",
    "        model.fit(X_train_scaled, y_train)\n",
    "        y_pred = model.predict(X_test_scaled)\n",
    "    else:\n",
    "        model.fit(X_train, y_train)\n",
    "        y_pred = model.predict(X_test)\n",
    "    \n",
    "    r2 = r2_score(y_test, y_pred)\n",
    "    rmse = np.sqrt(mean_squared_error(y_test, y_pred))\n",
    "    \n",
    "    results.append((name, r2, rmse))\n",
    "    print(f\"R2 Score: {r2:.4f}, RMSE: {rmse:.2f}\")\n"
   ]
  },
  {
   "cell_type": "markdown",
   "id": "4a2b8485-72de-4dbb-81a4-34fe87609022",
   "metadata": {},
   "source": [
    "<h3>Hyperparameter Tuning</h3>"
   ]
  },
  {
   "cell_type": "code",
   "execution_count": 32,
   "id": "3515b7cc-06b7-4631-b039-68aca682decb",
   "metadata": {},
   "outputs": [
    {
     "name": "stdout",
     "output_type": "stream",
     "text": [
      "Best params: {'model__max_depth': 20, 'model__n_estimators': 200}\n",
      "CV R2 score: 0.9052441266869689\n"
     ]
    }
   ],
   "source": [
    "from sklearn.pipeline import Pipeline\n",
    "from sklearn.impute import SimpleImputer\n",
    "from sklearn.preprocessing import StandardScaler\n",
    "from sklearn.ensemble import RandomForestRegressor\n",
    "from sklearn.model_selection import GridSearchCV\n",
    "\n",
    "# Define full pipeline\n",
    "pipe = Pipeline([\n",
    "    (\"impute\", SimpleImputer(strategy=\"median\")),\n",
    "    (\"scale\", StandardScaler()),\n",
    "    (\"model\", RandomForestRegressor(random_state=42))\n",
    "])\n",
    "\n",
    "# Hyperparameter grid\n",
    "param_grid = {\n",
    "    \"model__n_estimators\": [100, 200],\n",
    "    \"model__max_depth\": [None, 10, 20]\n",
    "}\n",
    "\n",
    "# Grid search with CV\n",
    "grid = GridSearchCV(pipe, param_grid, cv=5, scoring=\"r2\")\n",
    "grid.fit(X_train, y_train)\n",
    "\n",
    "print(\"Best params:\", grid.best_params_)\n",
    "best_pipe = grid.best_estimator_\n",
    "print(\"CV R2 score:\", grid.best_score_)\n"
   ]
  },
  {
   "cell_type": "markdown",
   "id": "828abdcc-99eb-4240-81c1-0571bd105a2b",
   "metadata": {},
   "source": [
    "<h3>Compare All Models</h3>"
   ]
  },
  {
   "cell_type": "code",
   "execution_count": 27,
   "id": "bb145d41-13fe-42a7-bc5f-5609cde1e4c3",
   "metadata": {},
   "outputs": [
    {
     "name": "stdout",
     "output_type": "stream",
     "text": [
      "\n",
      " Model Comparison:\n",
      "                Model  R2 Score          RMSE\n",
      "4  Gradient Boosting  0.918760   2989.589613\n",
      "3      Random Forest  0.905443   3225.334357\n",
      "6            XGBoost  0.905178   3229.841319\n",
      "0  Linear Regression  0.635003   6336.825973\n",
      "2   Lasso Regression  0.634875   6337.933047\n",
      "1   Ridge Regression  0.634504   6341.158981\n",
      "5                SVR -0.398338  12403.184211\n"
     ]
    }
   ],
   "source": [
    "results_df = pd.DataFrame(results, columns=[\"Model\", \"R2 Score\", \"RMSE\"])\n",
    "results_df = results_df.sort_values(by=\"R2 Score\", ascending=False)\n",
    "print(\"\\n Model Comparison:\\n\", results_df)\n"
   ]
  },
  {
   "cell_type": "markdown",
   "id": "629125ed-60fc-45b5-b270-de357b8ce11e",
   "metadata": {},
   "source": [
    "<h3>Select and Save the Best Model</h3>"
   ]
  },
  {
   "cell_type": "code",
   "execution_count": 30,
   "id": "5eda1ada-3dc7-404c-8ee2-677f69c4cb4c",
   "metadata": {},
   "outputs": [
    {
     "name": "stdout",
     "output_type": "stream",
     "text": [
      "\n",
      " Best model is 'Gradient Boosting' and saved as 'best_model.pkl'\n"
     ]
    }
   ],
   "source": [
    "import pickle\n",
    "\n",
    "best_model_name = results_df.iloc[0][\"Model\"]\n",
    "best_model = models[best_model_name]\n",
    "\n",
    "# Refit full training data before saving\n",
    "if best_model_name == \"SVR\":\n",
    "    best_model.fit(X_train_scaled, y_train)\n",
    "    pickle.dump((best_model, scaler, X.columns.tolist()), open(\"best_model.pkl\", \"wb\"))\n",
    "else:\n",
    "    best_model.fit(X_train, y_train)\n",
    "    pickle.dump((best_model, None, X.columns.tolist()), open(\"best_model.pkl\", \"wb\"))\n",
    "\n",
    "print(f\"\\n Best model is '{best_model_name}' and saved as 'best_model.pkl'\")\n"
   ]
  },
  {
   "cell_type": "markdown",
   "id": "b3623cf0-3ec8-4f7e-8ae5-e6b25bc5a9e3",
   "metadata": {},
   "source": [
    "<h3>Saving the Tuned Pipeline for Deployment</h3>"
   ]
  },
  {
   "cell_type": "code",
   "execution_count": 36,
   "id": "71f44d47-be6f-415e-b3cc-5d98b952a8e0",
   "metadata": {},
   "outputs": [
    {
     "name": "stdout",
     "output_type": "stream",
     "text": [
      " Best pipeline saved as 'best_pipeline.joblib'\n"
     ]
    }
   ],
   "source": [
    "import joblib\n",
    "\n",
    "# Save the entire best pipeline\n",
    "joblib.dump(best_pipe, \"best_pipeline.joblib\", compress=3)\n",
    "print(\" Best pipeline saved as 'best_pipeline.joblib'\")\n"
   ]
  },
  {
   "cell_type": "code",
   "execution_count": null,
   "id": "7a7b4230-6540-4bb9-935a-fad2d9996418",
   "metadata": {},
   "outputs": [],
   "source": []
  }
 ],
 "metadata": {
  "kernelspec": {
   "display_name": "Python 3 (ipykernel)",
   "language": "python",
   "name": "python3"
  },
  "language_info": {
   "codemirror_mode": {
    "name": "ipython",
    "version": 3
   },
   "file_extension": ".py",
   "mimetype": "text/x-python",
   "name": "python",
   "nbconvert_exporter": "python",
   "pygments_lexer": "ipython3",
   "version": "3.12.7"
  }
 },
 "nbformat": 4,
 "nbformat_minor": 5
}
